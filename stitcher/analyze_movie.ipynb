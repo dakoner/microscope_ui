{
 "cells": [
  {
   "cell_type": "code",
   "execution_count": 2,
   "metadata": {},
   "outputs": [],
   "source": [
    "import pandas as pd\n",
    "import matplotlib.pyplot as plt\n",
    "import glob\n",
    "import pathlib\n",
    "import ffmpeg\n",
    "import numpy as np\n",
    "from PIL import Image\n",
    "import sys\n",
    "import sys\n",
    "sys.path.insert(0, \"../controller\")\n",
    "import tile_configuration"
   ]
  },
  {
   "cell_type": "code",
   "execution_count": 6,
   "metadata": {},
   "outputs": [],
   "source": [
    "g = glob.glob(\"../controller/movie/*/tile_config.0.json\")\n",
    "s = sorted(g, key=lambda x: float(x.split(\"/\")[-2]))\n",
    "d = pathlib.Path(s[-1])\n",
    "t = tile_configuration.tile_config_to_tileconfiguration(d.parent)\n"
   ]
  },
  {
   "cell_type": "code",
   "execution_count": 7,
   "metadata": {},
   "outputs": [],
   "source": [
    "df = pd.read_json(d, lines=True, orient='records')\n",
    "#df.index = df[\"sequence\"]\n",
    "#df.drop(\"sequence\", axis=1, inplace=True)\n",
    "df[\"timestamp\"] = pd.to_datetime(df['tv_sec'], unit='s') + pd.to_timedelta(df['tv_nsec'], unit='ns')\n",
    "df.drop(\"tv_sec\", axis=1, inplace=True)\n",
    "df.drop(\"tv_nsec\", axis=1, inplace=True)"
   ]
  },
  {
   "cell_type": "code",
   "execution_count": 8,
   "metadata": {},
   "outputs": [],
   "source": [
    "\n",
    "df['timestamp_shift'] = df['timestamp'].shift()\n",
    "df['timestamp_delta'] = df['timestamp'] - df['timestamp_shift']\n"
   ]
  },
  {
   "cell_type": "code",
   "execution_count": 10,
   "metadata": {},
   "outputs": [
    {
     "data": {
      "image/png": "[encoded data removed]",
      "text/plain": [
       "<Figure size 640x480 with 1 Axes>"
      ]
     },
     "metadata": {},
     "output_type": "display_data"
    }
   ],
   "source": [
    "%matplotlib inline\n",
    "#df.plot(y=\"timestamp_delta\")\n",
    "df['timestamp_delta'].dt.microseconds.hist(bins=100)\n",
    "plt.show()"
   ]
  },
  {
   "cell_type": "code",
   "execution_count": 31,
   "metadata": {},
   "outputs": [
    {
     "name": "stderr",
     "output_type": "stream",
     "text": [
      "ffmpeg version 6.1.1-3ubuntu5 Copyright (c) 2000-2023 the FFmpeg developers\n",
      "  built with gcc 13 (Ubuntu 13.2.0-23ubuntu3)\n",
      "  configuration: --prefix=/usr --extra-version=3ubuntu5 --toolchain=hardened --libdir=/usr/lib/x86_64-linux-gnu --incdir=/usr/include/x86_64-linux-gnu --arch=amd64 --enable-gpl --disable-stripping --disable-omx --enable-gnutls --enable-libaom --enable-libass --enable-libbs2b --enable-libcaca --enable-libcdio --enable-libcodec2 --enable-libdav1d --enable-libflite --enable-libfontconfig --enable-libfreetype --enable-libfribidi --enable-libglslang --enable-libgme --enable-libgsm --enable-libharfbuzz --enable-libmp3lame --enable-libmysofa --enable-libopenjpeg --enable-libopenmpt --enable-libopus --enable-librubberband --enable-libshine --enable-libsnappy --enable-libsoxr --enable-libspeex --enable-libtheora --enable-libtwolame --enable-libvidstab --enable-libvorbis --enable-libvpx --enable-libwebp --enable-libx265 --enable-libxml2 --enable-libxvid --enable-libzimg --enable-openal --enable-opencl --enable-opengl --disable-sndio --enable-libvpl --disable-libmfx --enable-libdc1394 --enable-libdrm --enable-libiec61883 --enable-chromaprint --enable-frei0r --enable-ladspa --enable-libbluray --enable-libjack --enable-libpulse --enable-librabbitmq --enable-librist --enable-libsrt --enable-libssh --enable-libsvtav1 --enable-libx264 --enable-libzmq --enable-libzvbi --enable-lv2 --enable-sdl2 --enable-libplacebo --enable-librav1e --enable-pocketsphinx --enable-librsvg --enable-libjxl --enable-shared\n",
      "  libavutil      58. 29.100 / 58. 29.100\n",
      "  libavcodec     60. 31.102 / 60. 31.102\n",
      "  libavformat    60. 16.100 / 60. 16.100\n",
      "  libavdevice    60.  3.100 / 60.  3.100\n",
      "  libavfilter     9. 12.100 /  9. 12.100\n",
      "  libswscale      7.  5.100 /  7.  5.100\n",
      "  libswresample   4. 12.100 /  4. 12.100\n",
      "  libpostproc    57.  3.100 / 57.  3.100\n",
      "Input #0, matroska,webm, from 'movie/1736024572.9366107/test.0.mkv':\n",
      "  Metadata:\n",
      "    ENCODER         : Lavf60.16.100\n",
      "  Duration: 00:00:21.88, start: 0.000000, bitrate: 13217 kb/s\n",
      "  Stream #0:0: Video: h264 (High 4:2:2), yuv422p(tv, progressive), 1280x720, 25 fps, 25 tbr, 1k tbn\n",
      "    Metadata:\n",
      "      ENCODER         : Lavc60.31.102 libx264\n",
      "      DURATION        : 00:00:21.880000000\n",
      "Stream mapping:\n",
      "  Stream #0:0 -> #0:0 (h264 (native) -> rawvideo (native))\n",
      "Press [q] to stop, [?] for help\n",
      "Output #0, rawvideo, to 'pipe:':\n",
      "  Metadata:\n",
      "    encoder         : Lavf60.16.100\n",
      "  Stream #0:0: Video: rawvideo (RGB[24] / 0x18424752), rgb24(pc, gbr/unknown/unknown, progressive), 1280x720, q=2-31, 552960 kb/s, 25 fps, 25 tbn\n",
      "    Metadata:\n",
      "      DURATION        : 00:00:21.880000000\n",
      "      encoder         : Lavc60.31.102 rawvideo\n",
      "[out#0/rawvideo @ 0x57a68470d8c0] video:1476900kB audio:0kB subtitle:0kB other streams:0kB global headers:0kB muxing overhead: 0.000000%\n",
      "frame=  547 fps=2.7 q=-0.0 Lsize= 1476900kB time=00:00:21.84 bitrate=553972.7kbits/s speed=0.108x    \n"
     ]
    }
   ],
   "source": [
    "fname = d.parent / \"test.0.mkv\"\n",
    "\n",
    "process = (\n",
    "    ffmpeg.\n",
    "    input(\n",
    "        fname\n",
    "    )\n",
    "    .output(\n",
    "        \"pipe:\", format=\"rawvideo\", pix_fmt=\"rgb24\"\n",
    "    )  \n",
    "    .run_async(pipe_stdout=True)\n",
    "    )\n",
    "\n",
    "for item in df['sequence'].to_list():\n",
    "    r= process.stdout.read(1280*720*3)\n",
    "    n = np.frombuffer(r, np.uint8).reshape(720, 1280, 3)\n",
    "    i = Image.fromarray(n)\n",
    "    fname = d.parent / \"images\" / (\"test.%05d.png\" % item)\n",
    "    i.save(fname)\n",
    "    if len(r) == 0:\n",
    "        break"
   ]
  }
 ],
 "metadata": {
  "kernelspec": {
   "display_name": "Python 3",
   "language": "python",
   "name": "python3"
  },
  "language_info": {
   "codemirror_mode": {
    "name": "ipython",
    "version": 3
   },
   "file_extension": ".py",
   "mimetype": "text/x-python",
   "name": "python",
   "nbconvert_exporter": "python",
   "pygments_lexer": "ipython3",
   "version": "3.12.3"
  }
 },
 "nbformat": 4,
 "nbformat_minor": 2
}
