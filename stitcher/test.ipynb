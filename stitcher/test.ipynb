{
 "cells": [
  {
   "cell_type": "code",
   "execution_count": 12,
   "metadata": {},
   "outputs": [],
   "source": [
    "\n",
    "import pandas as pd\n",
    "import json\n",
    "import pathlib\n",
    "import sys\n",
    "import concurrent.futures\n",
    "import os\n",
    "import numpy as np\n"
   ]
  },
  {
   "cell_type": "code",
   "execution_count": 13,
   "metadata": {},
   "outputs": [],
   "source": [
    "\n",
    "sys.path.insert(0, \"..\\\\controller\")\n",
    "from tile_configuration import TileConfiguration\n"
   ]
  },
  {
   "cell_type": "code",
   "execution_count": 14,
   "metadata": {},
   "outputs": [],
   "source": [
    "\n",
    "prefix = pathlib.Path(\n",
    "    \"C:\\\\Users\\\\davidek\\\\microscope_ui\\\\controller\\\\photo\\\\1732508547.7836869\"\n",
    ")\n",
    "\n",
    "tc = TileConfiguration()\n",
    "tc.load(prefix / \"TileConfiguration.registered.txt\")\n",
    "tc.move_to_origin()\n",
    "tc.images = tc.images[:10]\n",
    "\n"
   ]
  },
  {
   "cell_type": "code",
   "execution_count": 15,
   "metadata": {},
   "outputs": [],
   "source": [
    "\n",
    "def load(filename):\n",
    "    with open(filename) as r:\n",
    "        return json.load(r)\n"
   ]
  },
  {
   "cell_type": "code",
   "execution_count": 16,
   "metadata": {},
   "outputs": [],
   "source": [
    "\n",
    "d = []\n",
    "\n",
    "with concurrent.futures.ThreadPoolExecutor(max_workers=16) as executor:\n",
    "    future_to_fname = {\n",
    "        executor.submit(\n",
    "            load,\n",
    "            pathlib.Path(\"..\\\\out\")\n",
    "            / image.filename.with_suffix(image.filename.suffix + \".json\"),\n",
    "        ): image.filename\n",
    "        for image in tc.images\n",
    "    }\n",
    "\n",
    "    for future in concurrent.futures.as_completed(future_to_fname):\n",
    "        filename = future_to_fname[future]\n",
    "        results = future.result()\n",
    "        for result in results:\n",
    "            d.append( (filename, pathlib.Path(result), results[result][0], results[result][1]))\n"
   ]
  },
  {
   "cell_type": "code",
   "execution_count": 17,
   "metadata": {},
   "outputs": [],
   "source": [
    "p = pd.DataFrame(d, columns=['fname1', 'fname2', 'tx', 'ty'])\n"
   ]
  },
  {
   "cell_type": "code",
   "execution_count": 18,
   "metadata": {},
   "outputs": [],
   "source": [
    "p['mag'] = np.sqrt(p['tx'] ** 2 + p['ty'] ** 2)\n"
   ]
  },
  {
   "cell_type": "code",
   "execution_count": 19,
   "metadata": {},
   "outputs": [],
   "source": [
    "p.sort_values(by=['mag'], inplace=True)\n",
    "#p.reset_index()\n",
    "#p['index_col'] = p.index\n",
    "\n"
   ]
  },
  {
   "cell_type": "code",
   "execution_count": 20,
   "metadata": {},
   "outputs": [],
   "source": [
    "p.to_csv(\"test.csv\")"
   ]
  },
  {
   "cell_type": "code",
   "execution_count": null,
   "metadata": {},
   "outputs": [],
   "source": [
    "def combine_two_images(i1, i2, tx, ty):\n",
    "    # find the boundary of the union\n",
    "    # paste the two images into the union\n"
   ]
  }
 ],
 "metadata": {
  "kernelspec": {
   "display_name": ".venv",
   "language": "python",
   "name": "python3"
  },
  "language_info": {
   "codemirror_mode": {
    "name": "ipython",
    "version": 3
   },
   "file_extension": ".py",
   "mimetype": "text/x-python",
   "name": "python",
   "nbconvert_exporter": "python",
   "pygments_lexer": "ipython3",
   "version": "3.12.3"
  }
 },
 "nbformat": 4,
 "nbformat_minor": 2
}
