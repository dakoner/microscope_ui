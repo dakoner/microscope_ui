{
 "cells": [
  {
   "cell_type": "code",
   "execution_count": 1,
   "metadata": {},
   "outputs": [],
   "source": [
    "import pandas as pd\n",
    "import json"
   ]
  },
  {
   "cell_type": "code",
   "execution_count": 13,
   "metadata": {},
   "outputs": [],
   "source": [
    "results = json.load(open(\"../black_results.json\"))\n",
    "p=pd.DataFrame({\n",
    "    \"fname\": [r[0] for r in results],\n",
    "    \"similarity\": [r[1] for r in results]\n",
    "    }\n",
    ")"
   ]
  },
  {
   "cell_type": "code",
   "execution_count": 16,
   "metadata": {},
   "outputs": [
    {
     "data": {
      "text/html": [
       "<div>\n",
       "<style scoped>\n",
       "    .dataframe tbody tr th:only-of-type {\n",
       "        vertical-align: middle;\n",
       "    }\n",
       "\n",
       "    .dataframe tbody tr th {\n",
       "        vertical-align: top;\n",
       "    }\n",
       "\n",
       "    .dataframe thead th {\n",
       "        text-align: right;\n",
       "    }\n",
       "</style>\n",
       "<table border=\"1\" class=\"dataframe\">\n",
       "  <thead>\n",
       "    <tr style=\"text-align: right;\">\n",
       "      <th></th>\n",
       "      <th>fname</th>\n",
       "      <th>similarity</th>\n",
       "    </tr>\n",
       "  </thead>\n",
       "  <tbody>\n",
       "    <tr>\n",
       "      <th>3450</th>\n",
       "      <td>test.0_59.29.tif</td>\n",
       "      <td>0.000000</td>\n",
       "    </tr>\n",
       "    <tr>\n",
       "      <th>4335</th>\n",
       "      <td>test.0_74.40.tif</td>\n",
       "      <td>0.000000</td>\n",
       "    </tr>\n",
       "    <tr>\n",
       "      <th>4334</th>\n",
       "      <td>test.0_74.44.tif</td>\n",
       "      <td>0.000000</td>\n",
       "    </tr>\n",
       "    <tr>\n",
       "      <th>4333</th>\n",
       "      <td>test.0_74.41.tif</td>\n",
       "      <td>0.000000</td>\n",
       "    </tr>\n",
       "    <tr>\n",
       "      <th>4332</th>\n",
       "      <td>test.0_74.46.tif</td>\n",
       "      <td>0.000000</td>\n",
       "    </tr>\n",
       "    <tr>\n",
       "      <th>...</th>\n",
       "      <td>...</td>\n",
       "      <td>...</td>\n",
       "    </tr>\n",
       "    <tr>\n",
       "      <th>4815</th>\n",
       "      <td>test.0_82.56.tif</td>\n",
       "      <td>62.005646</td>\n",
       "    </tr>\n",
       "    <tr>\n",
       "      <th>4866</th>\n",
       "      <td>test.0_83.55.tif</td>\n",
       "      <td>62.114871</td>\n",
       "    </tr>\n",
       "    <tr>\n",
       "      <th>4867</th>\n",
       "      <td>test.0_83.56.tif</td>\n",
       "      <td>62.378374</td>\n",
       "    </tr>\n",
       "    <tr>\n",
       "      <th>4874</th>\n",
       "      <td>test.0_83.57.tif</td>\n",
       "      <td>62.443004</td>\n",
       "    </tr>\n",
       "    <tr>\n",
       "      <th>4813</th>\n",
       "      <td>test.0_82.57.tif</td>\n",
       "      <td>62.646678</td>\n",
       "    </tr>\n",
       "  </tbody>\n",
       "</table>\n",
       "<p>6902 rows × 2 columns</p>\n",
       "</div>"
      ],
      "text/plain": [
       "                 fname  similarity\n",
       "3450  test.0_59.29.tif    0.000000\n",
       "4335  test.0_74.40.tif    0.000000\n",
       "4334  test.0_74.44.tif    0.000000\n",
       "4333  test.0_74.41.tif    0.000000\n",
       "4332  test.0_74.46.tif    0.000000\n",
       "...                ...         ...\n",
       "4815  test.0_82.56.tif   62.005646\n",
       "4866  test.0_83.55.tif   62.114871\n",
       "4867  test.0_83.56.tif   62.378374\n",
       "4874  test.0_83.57.tif   62.443004\n",
       "4813  test.0_82.57.tif   62.646678\n",
       "\n",
       "[6902 rows x 2 columns]"
      ]
     },
     "execution_count": 16,
     "metadata": {},
     "output_type": "execute_result"
    }
   ],
   "source": [
    "p.sort_values(by='similarity')"
   ]
  },
  {
   "cell_type": "code",
   "execution_count": 22,
   "metadata": {},
   "outputs": [
    {
     "data": {
      "text/plain": [
       "array(['test.0_0.29.tif', 'test.0_1.1.tif', 'test.0_1.2.tif', ...,\n",
       "       'test.0_118.56.tif', 'test.0_118.53.tif', 'test.0_118.52.tif'],\n",
       "      dtype=object)"
      ]
     },
     "execution_count": 22,
     "metadata": {},
     "output_type": "execute_result"
    }
   ],
   "source": [
    "fnames = [os.path.join(\"../movie/1670735481.848799\", fname) for fname in p[p.similarity == 0].fname.values]"
   ]
  }
 ],
 "metadata": {
  "kernelspec": {
   "display_name": "base",
   "language": "python",
   "name": "python3"
  },
  "language_info": {
   "codemirror_mode": {
    "name": "ipython",
    "version": 3
   },
   "file_extension": ".py",
   "mimetype": "text/x-python",
   "name": "python",
   "nbconvert_exporter": "python",
   "pygments_lexer": "ipython3",
   "version": "3.8.15"
  },
  "orig_nbformat": 4,
  "vscode": {
   "interpreter": {
    "hash": "4da3d1339afd1e88dbf81d230ff62a3f54327b39819982f7bcc687e836ef642b"
   }
  }
 },
 "nbformat": 4,
 "nbformat_minor": 2
}
